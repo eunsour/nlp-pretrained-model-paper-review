{
 "cells": [
  {
   "cell_type": "markdown",
   "id": "0bac2756",
   "metadata": {},
   "source": [
    "# Finetuning BERT for sentiment analysis"
   ]
  },
  {
   "cell_type": "code",
   "execution_count": 1,
   "id": "3b9680cb",
   "metadata": {
    "ExecuteTime": {
     "end_time": "2022-11-15T04:06:11.588969Z",
     "start_time": "2022-11-15T04:06:11.342759Z"
    }
   },
   "outputs": [
    {
     "data": {
      "text/plain": [
       "'4.24.0'"
      ]
     },
     "execution_count": 1,
     "metadata": {},
     "output_type": "execute_result"
    }
   ],
   "source": [
    "import transformers\n",
    "\n",
    "transformers.__version__"
   ]
  },
  {
   "cell_type": "code",
   "execution_count": 2,
   "id": "5e2aad3a",
   "metadata": {
    "ExecuteTime": {
     "end_time": "2022-11-15T04:06:11.989689Z",
     "start_time": "2022-11-15T04:06:11.590515Z"
    },
    "scrolled": true
   },
   "outputs": [
    {
     "data": {
      "text/plain": [
       "'cuda'"
      ]
     },
     "execution_count": 2,
     "metadata": {},
     "output_type": "execute_result"
    }
   ],
   "source": [
    "from torch import cuda\n",
    "\n",
    "device = 'cuda' if cuda.is_available() else 'cpu'\n",
    "device"
   ]
  },
  {
   "cell_type": "markdown",
   "id": "68632360",
   "metadata": {
    "ExecuteTime": {
     "end_time": "2022-11-15T04:06:14.141527Z",
     "start_time": "2022-11-15T04:06:11.991694Z"
    }
   },
   "source": [
    "```python\n",
    "import wandb\n",
    "\n",
    "wandb.init()\n",
    "```"
   ]
  },
  {
   "cell_type": "markdown",
   "id": "f1757214",
   "metadata": {},
   "source": [
    "**네이버 영화 리뷰 데이터셋 다운로드**"
   ]
  },
  {
   "cell_type": "code",
   "execution_count": 4,
   "id": "8bf680ab",
   "metadata": {
    "ExecuteTime": {
     "end_time": "2022-11-15T04:06:26.926154Z",
     "start_time": "2022-11-15T04:06:14.143099Z"
    }
   },
   "outputs": [
    {
     "name": "stderr",
     "output_type": "stream",
     "text": [
      "Found cached dataset nsmc (/home/mark10/.cache/huggingface/datasets/nsmc/default/1.1.0/bfd4729bf1a67114e5267e6916b9e4807010aeb238e4a3c2b95fbfa3a014b5f3)\n",
      "Found cached dataset nsmc (/home/mark10/.cache/huggingface/datasets/nsmc/default/1.1.0/bfd4729bf1a67114e5267e6916b9e4807010aeb238e4a3c2b95fbfa3a014b5f3)\n",
      "Found cached dataset nsmc (/home/mark10/.cache/huggingface/datasets/nsmc/default/1.1.0/bfd4729bf1a67114e5267e6916b9e4807010aeb238e4a3c2b95fbfa3a014b5f3)\n"
     ]
    }
   ],
   "source": [
    "from datasets import load_dataset\n",
    "\n",
    "nsmc_train= load_dataset('nsmc', split=\"train[:20000]+train[-20000:]\")\n",
    "nsmc_test= load_dataset('nsmc', split=\"test[:5000]+test[-5000:]\")\n",
    "nsmc_val= load_dataset('nsmc', split=\"test[5000:10000]+test[-10000:-5000]\")"
   ]
  },
  {
   "cell_type": "code",
   "execution_count": 5,
   "id": "43865dbd",
   "metadata": {
    "ExecuteTime": {
     "end_time": "2022-11-15T04:06:26.931663Z",
     "start_time": "2022-11-15T04:06:26.927714Z"
    }
   },
   "outputs": [
    {
     "data": {
      "text/plain": [
       "((40000, 3), (10000, 3), (10000, 3))"
      ]
     },
     "execution_count": 5,
     "metadata": {},
     "output_type": "execute_result"
    }
   ],
   "source": [
    "nsmc_train.shape, nsmc_test.shape, nsmc_val.shape"
   ]
  },
  {
   "cell_type": "markdown",
   "id": "fa2b4fce",
   "metadata": {},
   "source": [
    "**모델 및 토크나이저 다운로드**\n",
    "- 사전 학습 된 다국어 BERT 모델 사용"
   ]
  },
  {
   "cell_type": "code",
   "execution_count": 6,
   "id": "be1788f4",
   "metadata": {
    "ExecuteTime": {
     "end_time": "2022-11-15T04:06:30.058350Z",
     "start_time": "2022-11-15T04:06:26.932837Z"
    }
   },
   "outputs": [
    {
     "name": "stderr",
     "output_type": "stream",
     "text": [
      "Some weights of the model checkpoint at bert-base-multilingual-uncased were not used when initializing BertForSequenceClassification: ['cls.predictions.bias', 'cls.predictions.transform.LayerNorm.bias', 'cls.predictions.transform.dense.bias', 'cls.seq_relationship.weight', 'cls.predictions.transform.dense.weight', 'cls.predictions.transform.LayerNorm.weight', 'cls.predictions.decoder.weight', 'cls.seq_relationship.bias']\n",
      "- This IS expected if you are initializing BertForSequenceClassification from the checkpoint of a model trained on another task or with another architecture (e.g. initializing a BertForSequenceClassification model from a BertForPreTraining model).\n",
      "- This IS NOT expected if you are initializing BertForSequenceClassification from the checkpoint of a model that you expect to be exactly identical (initializing a BertForSequenceClassification model from a BertForSequenceClassification model).\n",
      "Some weights of BertForSequenceClassification were not initialized from the model checkpoint at bert-base-multilingual-uncased and are newly initialized: ['classifier.weight', 'classifier.bias']\n",
      "You should probably TRAIN this model on a down-stream task to be able to use it for predictions and inference.\n"
     ]
    }
   ],
   "source": [
    "from transformers import BertForSequenceClassification, BertTokenizerFast\n",
    "\n",
    "tokenizer = BertTokenizerFast.from_pretrained(\"bert-base-multilingual-uncased\")\n",
    "model = BertForSequenceClassification.from_pretrained(\"bert-base-multilingual-uncased\", num_labels=2)"
   ]
  },
  {
   "cell_type": "code",
   "execution_count": 7,
   "id": "092173dc",
   "metadata": {
    "ExecuteTime": {
     "end_time": "2022-11-15T04:06:30.063163Z",
     "start_time": "2022-11-15T04:06:30.059599Z"
    }
   },
   "outputs": [
    {
     "name": "stdout",
     "output_type": "stream",
     "text": [
      "167.357954 million parameters\n"
     ]
    }
   ],
   "source": [
    "print(f\"{model.num_parameters() /(10**6)} million parameters\")"
   ]
  },
  {
   "cell_type": "code",
   "execution_count": 8,
   "id": "1780d47e",
   "metadata": {
    "ExecuteTime": {
     "end_time": "2022-11-15T04:06:33.000810Z",
     "start_time": "2022-11-15T04:06:30.064316Z"
    },
    "scrolled": true
   },
   "outputs": [
    {
     "data": {
      "application/vnd.jupyter.widget-view+json": {
       "model_id": "f0b0d8c90c4b4002977b5d719f46363b",
       "version_major": 2,
       "version_minor": 0
      },
      "text/plain": [
       "  0%|          | 0/40 [00:00<?, ?ba/s]"
      ]
     },
     "metadata": {},
     "output_type": "display_data"
    },
    {
     "data": {
      "application/vnd.jupyter.widget-view+json": {
       "model_id": "941dce6298e5402db29e67a118b2912d",
       "version_major": 2,
       "version_minor": 0
      },
      "text/plain": [
       "  0%|          | 0/10 [00:00<?, ?ba/s]"
      ]
     },
     "metadata": {},
     "output_type": "display_data"
    },
    {
     "data": {
      "application/vnd.jupyter.widget-view+json": {
       "model_id": "b5027bab47304f32bc01f9c23803c47b",
       "version_major": 2,
       "version_minor": 0
      },
      "text/plain": [
       "  0%|          | 0/10 [00:00<?, ?ba/s]"
      ]
     },
     "metadata": {},
     "output_type": "display_data"
    }
   ],
   "source": [
    "enc_train = nsmc_train.map(lambda e: tokenizer(e['document'], max_length=128, padding=True, truncation=True), batched=True, batch_size=1000) \n",
    "enc_test = nsmc_test.map(lambda e: tokenizer(e['document'], max_length=128, padding=True, truncation=True), batched=True, batch_size=1000) \n",
    "enc_val = nsmc_val.map(lambda e: tokenizer(e['document'], max_length=128, padding=True, truncation=True), batched=True, batch_size=1000) "
   ]
  },
  {
   "cell_type": "code",
   "execution_count": 9,
   "id": "2070c6ab",
   "metadata": {
    "ExecuteTime": {
     "end_time": "2022-11-15T04:06:39.187946Z",
     "start_time": "2022-11-15T04:06:33.003446Z"
    }
   },
   "outputs": [
    {
     "data": {
      "text/html": [
       "<div>\n",
       "<style scoped>\n",
       "    .dataframe tbody tr th:only-of-type {\n",
       "        vertical-align: middle;\n",
       "    }\n",
       "\n",
       "    .dataframe tbody tr th {\n",
       "        vertical-align: top;\n",
       "    }\n",
       "\n",
       "    .dataframe thead th {\n",
       "        text-align: right;\n",
       "    }\n",
       "</style>\n",
       "<table border=\"1\" class=\"dataframe\">\n",
       "  <thead>\n",
       "    <tr style=\"text-align: right;\">\n",
       "      <th></th>\n",
       "      <th>id</th>\n",
       "      <th>document</th>\n",
       "      <th>label</th>\n",
       "      <th>input_ids</th>\n",
       "      <th>token_type_ids</th>\n",
       "      <th>attention_mask</th>\n",
       "    </tr>\n",
       "  </thead>\n",
       "  <tbody>\n",
       "    <tr>\n",
       "      <th>0</th>\n",
       "      <td>9976970</td>\n",
       "      <td>아 더빙.. 진짜 짜증나네요 목소리</td>\n",
       "      <td>0</td>\n",
       "      <td>[101, 1174, 25539, 23236, 29234, 13045, 119, 1...</td>\n",
       "      <td>[0, 0, 0, 0, 0, 0, 0, 0, 0, 0, 0, 0, 0, 0, 0, ...</td>\n",
       "      <td>[1, 1, 1, 1, 1, 1, 1, 1, 1, 1, 1, 1, 1, 1, 1, ...</td>\n",
       "    </tr>\n",
       "    <tr>\n",
       "      <th>1</th>\n",
       "      <td>3819312</td>\n",
       "      <td>흠...포스터보고 초딩영화줄....오버연기조차 가볍지 않구나</td>\n",
       "      <td>1</td>\n",
       "      <td>[101, 1181, 49904, 13503, 119, 119, 119, 1180,...</td>\n",
       "      <td>[0, 0, 0, 0, 0, 0, 0, 0, 0, 0, 0, 0, 0, 0, 0, ...</td>\n",
       "      <td>[1, 1, 1, 1, 1, 1, 1, 1, 1, 1, 1, 1, 1, 1, 1, ...</td>\n",
       "    </tr>\n",
       "    <tr>\n",
       "      <th>2</th>\n",
       "      <td>10265843</td>\n",
       "      <td>너무재밓었다그래서보는것을추천한다</td>\n",
       "      <td>0</td>\n",
       "      <td>[101, 1165, 33645, 32261, 35748, 22699, 97109,...</td>\n",
       "      <td>[0, 0, 0, 0, 0, 0, 0, 0, 0, 0, 0, 0, 0, 0, 0, ...</td>\n",
       "      <td>[1, 1, 1, 1, 1, 1, 1, 1, 1, 1, 1, 1, 1, 1, 1, ...</td>\n",
       "    </tr>\n",
       "    <tr>\n",
       "      <th>3</th>\n",
       "      <td>9045019</td>\n",
       "      <td>교도소 이야기구먼 ..솔직히 재미는 없다..평점 조정</td>\n",
       "      <td>0</td>\n",
       "      <td>[101, 1163, 44840, 12265, 22585, 12398, 93197,...</td>\n",
       "      <td>[0, 0, 0, 0, 0, 0, 0, 0, 0, 0, 0, 0, 0, 0, 0, ...</td>\n",
       "      <td>[1, 1, 1, 1, 1, 1, 1, 1, 1, 1, 1, 1, 1, 1, 1, ...</td>\n",
       "    </tr>\n",
       "    <tr>\n",
       "      <th>4</th>\n",
       "      <td>6483659</td>\n",
       "      <td>사이몬페그의 익살스런 연기가 돋보였던 영화!스파이더맨에서 늙어보이기만 했던 커스틴 ...</td>\n",
       "      <td>1</td>\n",
       "      <td>[101, 1172, 47042, 38914, 11830, 97086, 40389,...</td>\n",
       "      <td>[0, 0, 0, 0, 0, 0, 0, 0, 0, 0, 0, 0, 0, 0, 0, ...</td>\n",
       "      <td>[1, 1, 1, 1, 1, 1, 1, 1, 1, 1, 1, 1, 1, 1, 1, ...</td>\n",
       "    </tr>\n",
       "    <tr>\n",
       "      <th>5</th>\n",
       "      <td>5403919</td>\n",
       "      <td>막 걸음마 뗀 3세부터 초등학교 1학년생인 8살용영화.ㅋㅋㅋ...별반개도 아까움.</td>\n",
       "      <td>0</td>\n",
       "      <td>[101, 1169, 93871, 1163, 84098, 31999, 23823, ...</td>\n",
       "      <td>[0, 0, 0, 0, 0, 0, 0, 0, 0, 0, 0, 0, 0, 0, 0, ...</td>\n",
       "      <td>[1, 1, 1, 1, 1, 1, 1, 1, 1, 1, 1, 1, 1, 1, 1, ...</td>\n",
       "    </tr>\n",
       "    <tr>\n",
       "      <th>6</th>\n",
       "      <td>7797314</td>\n",
       "      <td>원작의 긴장감을 제대로 살려내지못했다.</td>\n",
       "      <td>0</td>\n",
       "      <td>[101, 1174, 97090, 11830, 31542, 10576, 1163, ...</td>\n",
       "      <td>[0, 0, 0, 0, 0, 0, 0, 0, 0, 0, 0, 0, 0, 0, 0, ...</td>\n",
       "      <td>[1, 1, 1, 1, 1, 1, 1, 1, 1, 1, 1, 1, 1, 1, 1, ...</td>\n",
       "    </tr>\n",
       "    <tr>\n",
       "      <th>7</th>\n",
       "      <td>9443947</td>\n",
       "      <td>별 반개도 아깝다 욕나온다 이응경 길용우 연기생활이몇년인지..정말 발로해도 그것보단...</td>\n",
       "      <td>0</td>\n",
       "      <td>[101, 1170, 59817, 1170, 26646, 22123, 12265, ...</td>\n",
       "      <td>[0, 0, 0, 0, 0, 0, 0, 0, 0, 0, 0, 0, 0, 0, 0, ...</td>\n",
       "      <td>[1, 1, 1, 1, 1, 1, 1, 1, 1, 1, 1, 1, 1, 1, 1, ...</td>\n",
       "    </tr>\n",
       "    <tr>\n",
       "      <th>8</th>\n",
       "      <td>7156791</td>\n",
       "      <td>액션이 없는데도 재미 있는 몇안되는 영화</td>\n",
       "      <td>1</td>\n",
       "      <td>[101, 1174, 48657, 39354, 11112, 39967, 26872,...</td>\n",
       "      <td>[0, 0, 0, 0, 0, 0, 0, 0, 0, 0, 0, 0, 0, 0, 0, ...</td>\n",
       "      <td>[1, 1, 1, 1, 1, 1, 1, 1, 1, 1, 1, 1, 1, 1, 1, ...</td>\n",
       "    </tr>\n",
       "    <tr>\n",
       "      <th>9</th>\n",
       "      <td>5912145</td>\n",
       "      <td>왜케 평점이 낮은건데? 꽤 볼만한데.. 헐리우드식 화려함에만 너무 길들여져 있나?</td>\n",
       "      <td>1</td>\n",
       "      <td>[101, 1174, 83955, 81261, 1180, 42908, 34619, ...</td>\n",
       "      <td>[0, 0, 0, 0, 0, 0, 0, 0, 0, 0, 0, 0, 0, 0, 0, ...</td>\n",
       "      <td>[1, 1, 1, 1, 1, 1, 1, 1, 1, 1, 1, 1, 1, 1, 1, ...</td>\n",
       "    </tr>\n",
       "  </tbody>\n",
       "</table>\n",
       "</div>"
      ],
      "text/plain": [
       "         id                                           document  label  \\\n",
       "0   9976970                                아 더빙.. 진짜 짜증나네요 목소리      0   \n",
       "1   3819312                  흠...포스터보고 초딩영화줄....오버연기조차 가볍지 않구나      1   \n",
       "2  10265843                                  너무재밓었다그래서보는것을추천한다      0   \n",
       "3   9045019                      교도소 이야기구먼 ..솔직히 재미는 없다..평점 조정      0   \n",
       "4   6483659  사이몬페그의 익살스런 연기가 돋보였던 영화!스파이더맨에서 늙어보이기만 했던 커스틴 ...      1   \n",
       "5   5403919      막 걸음마 뗀 3세부터 초등학교 1학년생인 8살용영화.ㅋㅋㅋ...별반개도 아까움.      0   \n",
       "6   7797314                              원작의 긴장감을 제대로 살려내지못했다.      0   \n",
       "7   9443947  별 반개도 아깝다 욕나온다 이응경 길용우 연기생활이몇년인지..정말 발로해도 그것보단...      0   \n",
       "8   7156791                             액션이 없는데도 재미 있는 몇안되는 영화      1   \n",
       "9   5912145      왜케 평점이 낮은건데? 꽤 볼만한데.. 헐리우드식 화려함에만 너무 길들여져 있나?      1   \n",
       "\n",
       "                                           input_ids  \\\n",
       "0  [101, 1174, 25539, 23236, 29234, 13045, 119, 1...   \n",
       "1  [101, 1181, 49904, 13503, 119, 119, 119, 1180,...   \n",
       "2  [101, 1165, 33645, 32261, 35748, 22699, 97109,...   \n",
       "3  [101, 1163, 44840, 12265, 22585, 12398, 93197,...   \n",
       "4  [101, 1172, 47042, 38914, 11830, 97086, 40389,...   \n",
       "5  [101, 1169, 93871, 1163, 84098, 31999, 23823, ...   \n",
       "6  [101, 1174, 97090, 11830, 31542, 10576, 1163, ...   \n",
       "7  [101, 1170, 59817, 1170, 26646, 22123, 12265, ...   \n",
       "8  [101, 1174, 48657, 39354, 11112, 39967, 26872,...   \n",
       "9  [101, 1174, 83955, 81261, 1180, 42908, 34619, ...   \n",
       "\n",
       "                                      token_type_ids  \\\n",
       "0  [0, 0, 0, 0, 0, 0, 0, 0, 0, 0, 0, 0, 0, 0, 0, ...   \n",
       "1  [0, 0, 0, 0, 0, 0, 0, 0, 0, 0, 0, 0, 0, 0, 0, ...   \n",
       "2  [0, 0, 0, 0, 0, 0, 0, 0, 0, 0, 0, 0, 0, 0, 0, ...   \n",
       "3  [0, 0, 0, 0, 0, 0, 0, 0, 0, 0, 0, 0, 0, 0, 0, ...   \n",
       "4  [0, 0, 0, 0, 0, 0, 0, 0, 0, 0, 0, 0, 0, 0, 0, ...   \n",
       "5  [0, 0, 0, 0, 0, 0, 0, 0, 0, 0, 0, 0, 0, 0, 0, ...   \n",
       "6  [0, 0, 0, 0, 0, 0, 0, 0, 0, 0, 0, 0, 0, 0, 0, ...   \n",
       "7  [0, 0, 0, 0, 0, 0, 0, 0, 0, 0, 0, 0, 0, 0, 0, ...   \n",
       "8  [0, 0, 0, 0, 0, 0, 0, 0, 0, 0, 0, 0, 0, 0, 0, ...   \n",
       "9  [0, 0, 0, 0, 0, 0, 0, 0, 0, 0, 0, 0, 0, 0, 0, ...   \n",
       "\n",
       "                                      attention_mask  \n",
       "0  [1, 1, 1, 1, 1, 1, 1, 1, 1, 1, 1, 1, 1, 1, 1, ...  \n",
       "1  [1, 1, 1, 1, 1, 1, 1, 1, 1, 1, 1, 1, 1, 1, 1, ...  \n",
       "2  [1, 1, 1, 1, 1, 1, 1, 1, 1, 1, 1, 1, 1, 1, 1, ...  \n",
       "3  [1, 1, 1, 1, 1, 1, 1, 1, 1, 1, 1, 1, 1, 1, 1, ...  \n",
       "4  [1, 1, 1, 1, 1, 1, 1, 1, 1, 1, 1, 1, 1, 1, 1, ...  \n",
       "5  [1, 1, 1, 1, 1, 1, 1, 1, 1, 1, 1, 1, 1, 1, 1, ...  \n",
       "6  [1, 1, 1, 1, 1, 1, 1, 1, 1, 1, 1, 1, 1, 1, 1, ...  \n",
       "7  [1, 1, 1, 1, 1, 1, 1, 1, 1, 1, 1, 1, 1, 1, 1, ...  \n",
       "8  [1, 1, 1, 1, 1, 1, 1, 1, 1, 1, 1, 1, 1, 1, 1, ...  \n",
       "9  [1, 1, 1, 1, 1, 1, 1, 1, 1, 1, 1, 1, 1, 1, 1, ...  "
      ]
     },
     "execution_count": 9,
     "metadata": {},
     "output_type": "execute_result"
    }
   ],
   "source": [
    "import pandas as pd\n",
    "pd.DataFrame(enc_train).head(10)"
   ]
  },
  {
   "cell_type": "code",
   "execution_count": 10,
   "id": "b6e28fbd",
   "metadata": {
    "ExecuteTime": {
     "end_time": "2022-11-15T04:06:43.231115Z",
     "start_time": "2022-11-15T04:06:39.189480Z"
    }
   },
   "outputs": [
    {
     "data": {
      "text/plain": [
       "(128, 128, 128)"
      ]
     },
     "execution_count": 10,
     "metadata": {},
     "output_type": "execute_result"
    }
   ],
   "source": [
    "len(enc_train['input_ids'][0]), len(enc_train['token_type_ids'][0]), len(enc_train['attention_mask'][0])"
   ]
  },
  {
   "cell_type": "code",
   "execution_count": 11,
   "id": "d4288a8d",
   "metadata": {
    "ExecuteTime": {
     "end_time": "2022-11-15T04:06:43.234637Z",
     "start_time": "2022-11-15T04:06:43.232418Z"
    }
   },
   "outputs": [],
   "source": [
    "epochs = 10\n",
    "batch_size = 16"
   ]
  },
  {
   "cell_type": "code",
   "execution_count": 12,
   "id": "00aae20e",
   "metadata": {
    "ExecuteTime": {
     "end_time": "2022-11-15T04:06:43.499155Z",
     "start_time": "2022-11-15T04:06:43.235764Z"
    }
   },
   "outputs": [],
   "source": [
    "from transformers import TrainingArguments, Trainer\n",
    "\n",
    "training_args = TrainingArguments(\n",
    "    # The output directory where the model predictions and checkpoints will be written\n",
    "    output_dir='./nsmcModel', \n",
    "    do_train=True,\n",
    "    do_eval=True,\n",
    "\n",
    "    #  The number of epochs, defaults to 3.0 \n",
    "    num_train_epochs=epochs,              \n",
    "    per_device_train_batch_size=batch_size,  \n",
    "    per_device_eval_batch_size=batch_size,\n",
    "    \n",
    "    # Number of steps used for a linear warmup\n",
    "    warmup_steps=500,                \n",
    "    weight_decay=0.01,\n",
    "    logging_strategy='steps', \n",
    "    \n",
    "    # TensorBoard log directory               \n",
    "    logging_dir='./logs',            \n",
    "    logging_steps=50,\n",
    "    \n",
    "    # other options : no, steps\n",
    "    evaluation_strategy=\"epoch\",\n",
    "    save_strategy=\"epoch\",\n",
    "    fp16=cuda.is_available(),\n",
    "    load_best_model_at_end=True,\n",
    "#     report_to=\"wandb\"\n",
    ")"
   ]
  },
  {
   "cell_type": "code",
   "execution_count": 13,
   "id": "c7f523b9",
   "metadata": {
    "ExecuteTime": {
     "end_time": "2022-11-15T04:06:43.503598Z",
     "start_time": "2022-11-15T04:06:43.500324Z"
    }
   },
   "outputs": [],
   "source": [
    "from sklearn.metrics import accuracy_score, precision_recall_fscore_support\n",
    "\n",
    "def compute_metrics(pred):\n",
    "    labels = pred.label_ids\n",
    "    preds = pred.predictions.argmax(-1)\n",
    "    precision, recall, f1, _ = precision_recall_fscore_support(\n",
    "        labels, preds, average='macro')\n",
    "    acc = accuracy_score(labels, preds)\n",
    "    \n",
    "    return {\n",
    "        'Accuracy': acc,\n",
    "        'F1': f1,\n",
    "        'Precision': precision,\n",
    "        'Recall': recall\n",
    "    }"
   ]
  },
  {
   "cell_type": "code",
   "execution_count": 14,
   "id": "a931bbe9",
   "metadata": {
    "ExecuteTime": {
     "end_time": "2022-11-15T04:06:45.415188Z",
     "start_time": "2022-11-15T04:06:43.504716Z"
    }
   },
   "outputs": [
    {
     "name": "stderr",
     "output_type": "stream",
     "text": [
      "Using cuda_amp half precision backend\n"
     ]
    }
   ],
   "source": [
    "trainer = Trainer(\n",
    "    model=model,\n",
    "    args=training_args,\n",
    "    train_dataset=enc_train,         \n",
    "    eval_dataset=enc_val,            \n",
    "    compute_metrics= compute_metrics\n",
    ")"
   ]
  },
  {
   "cell_type": "code",
   "execution_count": 15,
   "id": "0f910185",
   "metadata": {
    "ExecuteTime": {
     "end_time": "2022-11-15T06:47:51.302221Z",
     "start_time": "2022-11-15T04:06:45.416454Z"
    },
    "scrolled": true
   },
   "outputs": [
    {
     "name": "stderr",
     "output_type": "stream",
     "text": [
      "The following columns in the training set don't have a corresponding argument in `BertForSequenceClassification.forward` and have been ignored: id, document. If id, document are not expected by `BertForSequenceClassification.forward`,  you can safely ignore this message.\n",
      "/home/mark10/.pyenv/versions/3.8.10/envs/venv/lib/python3.8/site-packages/transformers/optimization.py:306: FutureWarning: This implementation of AdamW is deprecated and will be removed in a future version. Use the PyTorch implementation torch.optim.AdamW instead, or set `no_deprecation_warning=True` to disable this warning\n",
      "  warnings.warn(\n",
      "***** Running training *****\n",
      "  Num examples = 40000\n",
      "  Num Epochs = 10\n",
      "  Instantaneous batch size per device = 16\n",
      "  Total train batch size (w. parallel, distributed & accumulation) = 16\n",
      "  Gradient Accumulation steps = 1\n",
      "  Total optimization steps = 25000\n",
      "  Number of trainable parameters = 167357954\n",
      "Automatic Weights & Biases logging enabled, to disable set os.environ[\"WANDB_DISABLED\"] = \"true\"\n"
     ]
    },
    {
     "data": {
      "text/html": [
       "\n",
       "    <div>\n",
       "      \n",
       "      <progress value='25000' max='25000' style='width:300px; height:20px; vertical-align: middle;'></progress>\n",
       "      [25000/25000 2:41:04, Epoch 10/10]\n",
       "    </div>\n",
       "    <table border=\"1\" class=\"dataframe\">\n",
       "  <thead>\n",
       " <tr style=\"text-align: left;\">\n",
       "      <th>Epoch</th>\n",
       "      <th>Training Loss</th>\n",
       "      <th>Validation Loss</th>\n",
       "      <th>Accuracy</th>\n",
       "      <th>F1</th>\n",
       "      <th>Precision</th>\n",
       "      <th>Recall</th>\n",
       "    </tr>\n",
       "  </thead>\n",
       "  <tbody>\n",
       "    <tr>\n",
       "      <td>1</td>\n",
       "      <td>0.400600</td>\n",
       "      <td>0.399440</td>\n",
       "      <td>0.816600</td>\n",
       "      <td>0.816184</td>\n",
       "      <td>0.820111</td>\n",
       "      <td>0.816881</td>\n",
       "    </tr>\n",
       "    <tr>\n",
       "      <td>2</td>\n",
       "      <td>0.360400</td>\n",
       "      <td>0.439430</td>\n",
       "      <td>0.831900</td>\n",
       "      <td>0.831802</td>\n",
       "      <td>0.833001</td>\n",
       "      <td>0.832054</td>\n",
       "    </tr>\n",
       "    <tr>\n",
       "      <td>3</td>\n",
       "      <td>0.338000</td>\n",
       "      <td>0.393685</td>\n",
       "      <td>0.839500</td>\n",
       "      <td>0.839443</td>\n",
       "      <td>0.840252</td>\n",
       "      <td>0.839627</td>\n",
       "    </tr>\n",
       "    <tr>\n",
       "      <td>4</td>\n",
       "      <td>0.248100</td>\n",
       "      <td>0.534726</td>\n",
       "      <td>0.826100</td>\n",
       "      <td>0.825256</td>\n",
       "      <td>0.831659</td>\n",
       "      <td>0.825749</td>\n",
       "    </tr>\n",
       "    <tr>\n",
       "      <td>5</td>\n",
       "      <td>0.227500</td>\n",
       "      <td>0.501829</td>\n",
       "      <td>0.836900</td>\n",
       "      <td>0.836874</td>\n",
       "      <td>0.837303</td>\n",
       "      <td>0.836993</td>\n",
       "    </tr>\n",
       "    <tr>\n",
       "      <td>6</td>\n",
       "      <td>0.217900</td>\n",
       "      <td>0.588248</td>\n",
       "      <td>0.840100</td>\n",
       "      <td>0.840009</td>\n",
       "      <td>0.840598</td>\n",
       "      <td>0.839995</td>\n",
       "    </tr>\n",
       "    <tr>\n",
       "      <td>7</td>\n",
       "      <td>0.139300</td>\n",
       "      <td>0.662704</td>\n",
       "      <td>0.842300</td>\n",
       "      <td>0.842231</td>\n",
       "      <td>0.842656</td>\n",
       "      <td>0.842212</td>\n",
       "    </tr>\n",
       "    <tr>\n",
       "      <td>8</td>\n",
       "      <td>0.107700</td>\n",
       "      <td>0.675312</td>\n",
       "      <td>0.844400</td>\n",
       "      <td>0.844209</td>\n",
       "      <td>0.845668</td>\n",
       "      <td>0.844236</td>\n",
       "    </tr>\n",
       "    <tr>\n",
       "      <td>9</td>\n",
       "      <td>0.075400</td>\n",
       "      <td>0.737136</td>\n",
       "      <td>0.843000</td>\n",
       "      <td>0.842979</td>\n",
       "      <td>0.843061</td>\n",
       "      <td>0.842962</td>\n",
       "    </tr>\n",
       "    <tr>\n",
       "      <td>10</td>\n",
       "      <td>0.085900</td>\n",
       "      <td>0.785487</td>\n",
       "      <td>0.843800</td>\n",
       "      <td>0.843768</td>\n",
       "      <td>0.843920</td>\n",
       "      <td>0.843748</td>\n",
       "    </tr>\n",
       "  </tbody>\n",
       "</table><p>"
      ],
      "text/plain": [
       "<IPython.core.display.HTML object>"
      ]
     },
     "metadata": {},
     "output_type": "display_data"
    },
    {
     "name": "stderr",
     "output_type": "stream",
     "text": [
      "The following columns in the evaluation set don't have a corresponding argument in `BertForSequenceClassification.forward` and have been ignored: id, document. If id, document are not expected by `BertForSequenceClassification.forward`,  you can safely ignore this message.\n",
      "***** Running Evaluation *****\n",
      "  Num examples = 10000\n",
      "  Batch size = 16\n",
      "Saving model checkpoint to ./nsmcModel/checkpoint-2500\n",
      "Configuration saved in ./nsmcModel/checkpoint-2500/config.json\n",
      "Model weights saved in ./nsmcModel/checkpoint-2500/pytorch_model.bin\n",
      "The following columns in the evaluation set don't have a corresponding argument in `BertForSequenceClassification.forward` and have been ignored: id, document. If id, document are not expected by `BertForSequenceClassification.forward`,  you can safely ignore this message.\n",
      "***** Running Evaluation *****\n",
      "  Num examples = 10000\n",
      "  Batch size = 16\n",
      "Saving model checkpoint to ./nsmcModel/checkpoint-5000\n",
      "Configuration saved in ./nsmcModel/checkpoint-5000/config.json\n",
      "Model weights saved in ./nsmcModel/checkpoint-5000/pytorch_model.bin\n",
      "The following columns in the evaluation set don't have a corresponding argument in `BertForSequenceClassification.forward` and have been ignored: id, document. If id, document are not expected by `BertForSequenceClassification.forward`,  you can safely ignore this message.\n",
      "***** Running Evaluation *****\n",
      "  Num examples = 10000\n",
      "  Batch size = 16\n",
      "Saving model checkpoint to ./nsmcModel/checkpoint-7500\n",
      "Configuration saved in ./nsmcModel/checkpoint-7500/config.json\n",
      "Model weights saved in ./nsmcModel/checkpoint-7500/pytorch_model.bin\n",
      "The following columns in the evaluation set don't have a corresponding argument in `BertForSequenceClassification.forward` and have been ignored: id, document. If id, document are not expected by `BertForSequenceClassification.forward`,  you can safely ignore this message.\n",
      "***** Running Evaluation *****\n",
      "  Num examples = 10000\n",
      "  Batch size = 16\n",
      "Saving model checkpoint to ./nsmcModel/checkpoint-10000\n",
      "Configuration saved in ./nsmcModel/checkpoint-10000/config.json\n",
      "Model weights saved in ./nsmcModel/checkpoint-10000/pytorch_model.bin\n",
      "The following columns in the evaluation set don't have a corresponding argument in `BertForSequenceClassification.forward` and have been ignored: id, document. If id, document are not expected by `BertForSequenceClassification.forward`,  you can safely ignore this message.\n",
      "***** Running Evaluation *****\n",
      "  Num examples = 10000\n",
      "  Batch size = 16\n",
      "Saving model checkpoint to ./nsmcModel/checkpoint-12500\n",
      "Configuration saved in ./nsmcModel/checkpoint-12500/config.json\n",
      "Model weights saved in ./nsmcModel/checkpoint-12500/pytorch_model.bin\n",
      "The following columns in the evaluation set don't have a corresponding argument in `BertForSequenceClassification.forward` and have been ignored: id, document. If id, document are not expected by `BertForSequenceClassification.forward`,  you can safely ignore this message.\n",
      "***** Running Evaluation *****\n",
      "  Num examples = 10000\n",
      "  Batch size = 16\n",
      "Saving model checkpoint to ./nsmcModel/checkpoint-15000\n",
      "Configuration saved in ./nsmcModel/checkpoint-15000/config.json\n",
      "Model weights saved in ./nsmcModel/checkpoint-15000/pytorch_model.bin\n",
      "The following columns in the evaluation set don't have a corresponding argument in `BertForSequenceClassification.forward` and have been ignored: id, document. If id, document are not expected by `BertForSequenceClassification.forward`,  you can safely ignore this message.\n",
      "***** Running Evaluation *****\n",
      "  Num examples = 10000\n",
      "  Batch size = 16\n",
      "Saving model checkpoint to ./nsmcModel/checkpoint-17500\n",
      "Configuration saved in ./nsmcModel/checkpoint-17500/config.json\n",
      "Model weights saved in ./nsmcModel/checkpoint-17500/pytorch_model.bin\n",
      "The following columns in the evaluation set don't have a corresponding argument in `BertForSequenceClassification.forward` and have been ignored: id, document. If id, document are not expected by `BertForSequenceClassification.forward`,  you can safely ignore this message.\n",
      "***** Running Evaluation *****\n",
      "  Num examples = 10000\n",
      "  Batch size = 16\n",
      "Saving model checkpoint to ./nsmcModel/checkpoint-20000\n",
      "Configuration saved in ./nsmcModel/checkpoint-20000/config.json\n",
      "Model weights saved in ./nsmcModel/checkpoint-20000/pytorch_model.bin\n",
      "The following columns in the evaluation set don't have a corresponding argument in `BertForSequenceClassification.forward` and have been ignored: id, document. If id, document are not expected by `BertForSequenceClassification.forward`,  you can safely ignore this message.\n",
      "***** Running Evaluation *****\n",
      "  Num examples = 10000\n",
      "  Batch size = 16\n",
      "Saving model checkpoint to ./nsmcModel/checkpoint-22500\n",
      "Configuration saved in ./nsmcModel/checkpoint-22500/config.json\n",
      "Model weights saved in ./nsmcModel/checkpoint-22500/pytorch_model.bin\n",
      "The following columns in the evaluation set don't have a corresponding argument in `BertForSequenceClassification.forward` and have been ignored: id, document. If id, document are not expected by `BertForSequenceClassification.forward`,  you can safely ignore this message.\n",
      "***** Running Evaluation *****\n",
      "  Num examples = 10000\n",
      "  Batch size = 16\n",
      "Saving model checkpoint to ./nsmcModel/checkpoint-25000\n",
      "Configuration saved in ./nsmcModel/checkpoint-25000/config.json\n",
      "Model weights saved in ./nsmcModel/checkpoint-25000/pytorch_model.bin\n",
      "\n",
      "\n",
      "Training completed. Do not forget to share your model on huggingface.co/models =)\n",
      "\n",
      "\n",
      "Loading best model from ./nsmcModel/checkpoint-7500 (score: 0.3936852514743805).\n"
     ]
    }
   ],
   "source": [
    "results=trainer.train()"
   ]
  },
  {
   "cell_type": "code",
   "execution_count": 16,
   "id": "45a9f869",
   "metadata": {
    "ExecuteTime": {
     "end_time": "2022-11-15T06:53:54.382349Z",
     "start_time": "2022-11-15T06:48:47.428724Z"
    }
   },
   "outputs": [
    {
     "name": "stderr",
     "output_type": "stream",
     "text": [
      "The following columns in the evaluation set don't have a corresponding argument in `BertForSequenceClassification.forward` and have been ignored: id, document. If id, document are not expected by `BertForSequenceClassification.forward`,  you can safely ignore this message.\n",
      "***** Running Evaluation *****\n",
      "  Num examples = 40000\n",
      "  Batch size = 16\n"
     ]
    },
    {
     "data": {
      "text/html": [
       "\n",
       "    <div>\n",
       "      \n",
       "      <progress value='3750' max='2500' style='width:300px; height:20px; vertical-align: middle;'></progress>\n",
       "      [2500/2500 05:06]\n",
       "    </div>\n",
       "    "
      ],
      "text/plain": [
       "<IPython.core.display.HTML object>"
      ]
     },
     "metadata": {},
     "output_type": "display_data"
    },
    {
     "name": "stderr",
     "output_type": "stream",
     "text": [
      "The following columns in the evaluation set don't have a corresponding argument in `BertForSequenceClassification.forward` and have been ignored: id, document. If id, document are not expected by `BertForSequenceClassification.forward`,  you can safely ignore this message.\n",
      "***** Running Evaluation *****\n",
      "  Num examples = 10000\n",
      "  Batch size = 16\n",
      "The following columns in the evaluation set don't have a corresponding argument in `BertForSequenceClassification.forward` and have been ignored: id, document. If id, document are not expected by `BertForSequenceClassification.forward`,  you can safely ignore this message.\n",
      "***** Running Evaluation *****\n",
      "  Num examples = 10000\n",
      "  Batch size = 16\n"
     ]
    },
    {
     "data": {
      "text/html": [
       "<div>\n",
       "<style scoped>\n",
       "    .dataframe tbody tr th:only-of-type {\n",
       "        vertical-align: middle;\n",
       "    }\n",
       "\n",
       "    .dataframe tbody tr th {\n",
       "        vertical-align: top;\n",
       "    }\n",
       "\n",
       "    .dataframe thead th {\n",
       "        text-align: right;\n",
       "    }\n",
       "</style>\n",
       "<table border=\"1\" class=\"dataframe\">\n",
       "  <thead>\n",
       "    <tr style=\"text-align: right;\">\n",
       "      <th></th>\n",
       "      <th>eval_loss</th>\n",
       "      <th>eval_Accuracy</th>\n",
       "      <th>eval_F1</th>\n",
       "      <th>eval_Precision</th>\n",
       "      <th>eval_Recall</th>\n",
       "    </tr>\n",
       "  </thead>\n",
       "  <tbody>\n",
       "    <tr>\n",
       "      <th>train</th>\n",
       "      <td>0.208184</td>\n",
       "      <td>0.9281</td>\n",
       "      <td>0.928055</td>\n",
       "      <td>0.928820</td>\n",
       "      <td>0.927991</td>\n",
       "    </tr>\n",
       "    <tr>\n",
       "      <th>val</th>\n",
       "      <td>0.393685</td>\n",
       "      <td>0.8395</td>\n",
       "      <td>0.839443</td>\n",
       "      <td>0.840252</td>\n",
       "      <td>0.839627</td>\n",
       "    </tr>\n",
       "    <tr>\n",
       "      <th>test</th>\n",
       "      <td>0.367399</td>\n",
       "      <td>0.8455</td>\n",
       "      <td>0.845367</td>\n",
       "      <td>0.846488</td>\n",
       "      <td>0.845420</td>\n",
       "    </tr>\n",
       "  </tbody>\n",
       "</table>\n",
       "</div>"
      ],
      "text/plain": [
       "       eval_loss  eval_Accuracy   eval_F1  eval_Precision  eval_Recall\n",
       "train   0.208184         0.9281  0.928055        0.928820     0.927991\n",
       "val     0.393685         0.8395  0.839443        0.840252     0.839627\n",
       "test    0.367399         0.8455  0.845367        0.846488     0.845420"
      ]
     },
     "execution_count": 16,
     "metadata": {},
     "output_type": "execute_result"
    }
   ],
   "source": [
    "q=[trainer.evaluate(eval_dataset=data) for data in [enc_train, enc_val, enc_test]]\n",
    "\n",
    "pd.DataFrame(q, index=[\"train\",\"val\",\"test\"]).iloc[:,:5]"
   ]
  },
  {
   "cell_type": "markdown",
   "id": "b7e8e0aa",
   "metadata": {},
   "source": [
    "## Save model"
   ]
  },
  {
   "cell_type": "code",
   "execution_count": 18,
   "id": "bf698202",
   "metadata": {
    "ExecuteTime": {
     "end_time": "2022-11-15T06:58:36.438777Z",
     "start_time": "2022-11-15T06:58:35.340037Z"
    }
   },
   "outputs": [
    {
     "name": "stderr",
     "output_type": "stream",
     "text": [
      "Saving model checkpoint to best_nsmc_model\n",
      "Configuration saved in best_nsmc_model/config.json\n",
      "Model weights saved in best_nsmc_model/pytorch_model.bin\n",
      "tokenizer config file saved in best_nsmc_model/tokenizer_config.json\n",
      "Special tokens file saved in best_nsmc_model/special_tokens_map.json\n"
     ]
    },
    {
     "data": {
      "text/plain": [
       "('best_nsmc_model/tokenizer_config.json',\n",
       " 'best_nsmc_model/special_tokens_map.json',\n",
       " 'best_nsmc_model/vocab.txt',\n",
       " 'best_nsmc_model/added_tokens.json',\n",
       " 'best_nsmc_model/tokenizer.json')"
      ]
     },
     "execution_count": 18,
     "metadata": {},
     "output_type": "execute_result"
    }
   ],
   "source": [
    "# saving the best fine-tuned model & tokenizer\n",
    "model_save_path = \"best_nsmc_model\"\n",
    "trainer.save_model(model_save_path)\n",
    "tokenizer.save_pretrained(model_save_path)"
   ]
  },
  {
   "cell_type": "markdown",
   "id": "e5111880",
   "metadata": {},
   "source": [
    "## Prediction"
   ]
  },
  {
   "cell_type": "code",
   "execution_count": 19,
   "id": "4caa928f",
   "metadata": {
    "ExecuteTime": {
     "end_time": "2022-11-15T06:58:59.137551Z",
     "start_time": "2022-11-15T06:58:59.133677Z"
    }
   },
   "outputs": [],
   "source": [
    "def get_prediction(text):\n",
    "    inputs = tokenizer(text, padding=True, truncation=True, max_length=128, return_tensors=\"pt\").to(device)\n",
    "    outputs = model(inputs[\"input_ids\"].to(device),inputs[\"attention_mask\"].to(device))\n",
    "    probs = outputs[0].softmax(1)\n",
    "    return probs, probs.argmax()"
   ]
  },
  {
   "cell_type": "code",
   "execution_count": 22,
   "id": "1abb9fb8",
   "metadata": {
    "ExecuteTime": {
     "end_time": "2022-11-15T06:59:42.210891Z",
     "start_time": "2022-11-15T06:59:42.184768Z"
    }
   },
   "outputs": [
    {
     "data": {
      "text/plain": [
       "0"
      ]
     },
     "execution_count": 22,
     "metadata": {},
     "output_type": "execute_result"
    }
   ],
   "source": [
    "model.to(device)\n",
    "text = \"영화가 재밌지도 않고 재미없지도 않는 그런 영화입니다.\"\n",
    "get_prediction(text)[1].item()"
   ]
  },
  {
   "cell_type": "markdown",
   "id": "9b060192",
   "metadata": {},
   "source": [
    "## Use pipeline"
   ]
  },
  {
   "cell_type": "code",
   "execution_count": 25,
   "id": "9cce7177",
   "metadata": {
    "ExecuteTime": {
     "end_time": "2022-11-15T07:00:07.810782Z",
     "start_time": "2022-11-15T07:00:06.752974Z"
    }
   },
   "outputs": [
    {
     "name": "stderr",
     "output_type": "stream",
     "text": [
      "loading configuration file best_nsmc_model/config.json\n",
      "Model config BertConfig {\n",
      "  \"_name_or_path\": \"bert-base-multilingual-uncased\",\n",
      "  \"architectures\": [\n",
      "    \"BertForSequenceClassification\"\n",
      "  ],\n",
      "  \"attention_probs_dropout_prob\": 0.1,\n",
      "  \"classifier_dropout\": null,\n",
      "  \"directionality\": \"bidi\",\n",
      "  \"hidden_act\": \"gelu\",\n",
      "  \"hidden_dropout_prob\": 0.1,\n",
      "  \"hidden_size\": 768,\n",
      "  \"initializer_range\": 0.02,\n",
      "  \"intermediate_size\": 3072,\n",
      "  \"layer_norm_eps\": 1e-12,\n",
      "  \"max_position_embeddings\": 512,\n",
      "  \"model_type\": \"bert\",\n",
      "  \"num_attention_heads\": 12,\n",
      "  \"num_hidden_layers\": 12,\n",
      "  \"pad_token_id\": 0,\n",
      "  \"pooler_fc_size\": 768,\n",
      "  \"pooler_num_attention_heads\": 12,\n",
      "  \"pooler_num_fc_layers\": 3,\n",
      "  \"pooler_size_per_head\": 128,\n",
      "  \"pooler_type\": \"first_token_transform\",\n",
      "  \"position_embedding_type\": \"absolute\",\n",
      "  \"problem_type\": \"single_label_classification\",\n",
      "  \"torch_dtype\": \"float32\",\n",
      "  \"transformers_version\": \"4.24.0\",\n",
      "  \"type_vocab_size\": 2,\n",
      "  \"use_cache\": true,\n",
      "  \"vocab_size\": 105879\n",
      "}\n",
      "\n",
      "loading weights file best_nsmc_model/pytorch_model.bin\n",
      "All model checkpoint weights were used when initializing BertForSequenceClassification.\n",
      "\n",
      "All the weights of BertForSequenceClassification were initialized from the model checkpoint at best_nsmc_model.\n",
      "If your task is similar to the task the model of the checkpoint was trained on, you can already use BertForSequenceClassification for predictions without further training.\n",
      "loading file vocab.txt\n",
      "loading file tokenizer.json\n",
      "loading file added_tokens.json\n",
      "loading file special_tokens_map.json\n",
      "loading file tokenizer_config.json\n"
     ]
    },
    {
     "data": {
      "text/plain": [
       "[{'label': 'LABEL_1', 'score': 0.9623047709465027}]"
      ]
     },
     "execution_count": 25,
     "metadata": {},
     "output_type": "execute_result"
    }
   ],
   "source": [
    "from transformers import pipeline, BertForSequenceClassification, BertTokenizerFast\n",
    "model = BertForSequenceClassification.from_pretrained(\"best_nsmc_model\")\n",
    "tokenizer= BertTokenizerFast.from_pretrained(\"best_nsmc_model\")\n",
    "nlp= pipeline(\"sentiment-analysis\", model=model, tokenizer=tokenizer)\n",
    "nlp(\"영화가 수작이네요\")"
   ]
  },
  {
   "cell_type": "code",
   "execution_count": 28,
   "id": "41769cb2",
   "metadata": {
    "ExecuteTime": {
     "end_time": "2022-11-15T07:00:56.292261Z",
     "start_time": "2022-11-15T07:00:56.262197Z"
    }
   },
   "outputs": [
    {
     "data": {
      "text/plain": [
       "[{'label': 'LABEL_0', 'score': 0.528073251247406}]"
      ]
     },
     "execution_count": 28,
     "metadata": {},
     "output_type": "execute_result"
    }
   ],
   "source": [
    "nlp(\"영화가 재밌지도 않고 재미없지도 않는 그런 영화입니다.\")"
   ]
  },
  {
   "cell_type": "code",
   "execution_count": null,
   "id": "bc75a6b5",
   "metadata": {},
   "outputs": [],
   "source": []
  }
 ],
 "metadata": {
  "kernelspec": {
   "display_name": "Python 3 (ipykernel)",
   "language": "python",
   "name": "python3"
  },
  "language_info": {
   "codemirror_mode": {
    "name": "ipython",
    "version": 3
   },
   "file_extension": ".py",
   "mimetype": "text/x-python",
   "name": "python",
   "nbconvert_exporter": "python",
   "pygments_lexer": "ipython3",
   "version": "3.8.10"
  },
  "toc": {
   "base_numbering": 1,
   "nav_menu": {},
   "number_sections": true,
   "sideBar": true,
   "skip_h1_title": false,
   "title_cell": "Table of Contents",
   "title_sidebar": "Contents",
   "toc_cell": false,
   "toc_position": {},
   "toc_section_display": true,
   "toc_window_display": false
  }
 },
 "nbformat": 4,
 "nbformat_minor": 5
}
